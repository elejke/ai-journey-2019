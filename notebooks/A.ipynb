{
 "cells": [
  {
   "cell_type": "code",
   "execution_count": 1,
   "metadata": {},
   "outputs": [],
   "source": [
    "import pandas as pd\n",
    "import numpy as np\n",
    "import os, sys, json, logging\n",
    "os.chdir('../')\n",
    "logging.basicConfig(level=logging.DEBUG,\n",
    "                    format='%(levelname)-9s: %(message)s', stream=sys.stdout)"
   ]
  },
  {
   "cell_type": "code",
   "execution_count": 2,
   "metadata": {
    "scrolled": false
   },
   "outputs": [
    {
     "name": "stdout",
     "output_type": "stream",
     "text": [
      "Прочитайте текст и выполните следующее задание.(1) В некоторых моделях современных автомобилей раскрытие подушек безопасности при непристёгнутых ремнях автоматически блокируется.(2) Дело в том, что срабатывание подушек, происходящее с огромной скоростью, сродни сильному удару.(3) <...> тело непристёгнутого человека в момент аварии не будет зафиксировано ремнём и сместится в сторону, то подушка не только окажется плохим помощником, но и сама может стать причиной серьёзной травмы.Укажите два предложения, в которых верно передана главная информация, содержащаяся в тексте.Запишите номера этих предложений.\n",
      "\n",
      "Прочитайте текст и выполните задание.(1) В отношении городского благоустройства Великий Новгород оставлял позади себя многие средневековые города Западной Европы.(2) В Западной Европе первые мостовые появляются лишь в конце XII века, а в Новгороде уже в XI веке деревом мостили все улицы, а также дворы внутри усадеб.(3) Кроме того, знаменитое Ярославово дворище в Новгороде имело первый в Северной Европе водопровод, по <...> в деревянных трубах бежала чистая ключевая вода.Укажите два предложения, в которых верно передана ГЛАВНАЯ информация, содержащаяся в тексте.Запишите номера этих предложений.\n",
      "\n",
      "Прочитайте текст и выполните задание.(1) В XVIII веке, до прихода европейцев, в Австралии насчитывалось около 300 тысяч аборигенов, говоривших не менее чем на 200 языках.(2) В ходе европейской колонизации XIX – начала XX века, нередко сопровождавшейся прямым геноцидом, их численность резко сократилась.(3) И <…> насчитывается не более 70 тысяч носителей австралийских языков, в основном людей старшего поколения.Укажите два предложения, в которых верно передана ГЛАВНАЯ информация, содержащаяся в тексте.Запишите номера этих предложений.\n",
      "\n",
      "Укажите два предложения, в которых верно передана ГЛАВНАЯ информация, содержащаяся в тексте.Запишите номера этих предложений(1) Индоиранское общество подразделялось на три класса: вожди и жрецы, воины и простые земледельцы и пастухи.(2) … классовое деление получило свое отражение и в религии: каждому из перечисленных классов принадлежали свои особые боги.(3) Асуры были связаны с первым, высшим классом вождей и жрецов.(4) В жертву богам приносили кровь животных, огонь и перебродивший сок некоего растения (саумы).(5) Эти жертвоприношения, призванные обеспечить благополучие человека и продление его рода (что всегда играло важную роль в погребальных обрядах), и позволяли ему как бы заранее вкусить бессмертие через опьянение саумой.\n",
      "\n",
      "Прочитайте текст и выполните задание.(1) Американский психолог А. Маслоу предложил смотреть на структуру человеческих потребностей как на пирамиду, в основании <…> лежат биологические потребности, а на вершине находится потребность в самореализации.(2) Несмотря на очевидную логичность этой теории, сам А. Маслоу отмечал, что она применима к пониманию потребностей человечества в целом, но не может использоваться в отношении конкретной личности.(3) Действительно, ни одна из попыток использовать её в качестве основы для мотивации труда конкретной личности не увенчалась успехом: система ценностей каждого человека уникальна.Укажите варианты ответов, в которых верно передана главная информация, содержащаяся в тексте.Запишите номера этих предложений.\n",
      "\n",
      "Прочитайте текст и выполните следующее задание.(1) Если условия существования и направление действия естественного отбора сходны у животных различных групп, то в процессе эволюции они иногда приобретают сходные приспособления к среде обитания.(2) Этот процесс получил название схождения признаков (конвергенции).(3) <...> передние роющие конечности крота и медведки очень сходны, хотя эти животные относятся к разным типам; очень похожи по форме тéла китообразные и рыбы; сходны конечности у плавающих животных, относящихся к разным классам.Укажите два предложения, в которых верно передана главная информация, содержащаяся в тексте.Запишите номера этих предложений.\n",
      "\n",
      "Прочитайте текст и выполните задание.(1) Христофор Колумб – знаменитый европейский мореплаватель, благодаря которому для обитателей Старого Света стала известна Америка.(2) Экспедиция Колумба началась 3 августа 1492 года, когда корабли «Санта-Мария», «Пинта» и «Нинья» вышли из бухты испанского города Палос-де-ла-Фронтера с целью поиска короткого пути для торговли с Индией; 7 октября по требованию команды, полагавшей, что флотилия прошла мимо Японии, не заметив её островов, корабли изменили курс на запад и пересекли Атлантический океан в субтропическом поясе.(3) 12 октября экспедиция достигла острова Сан-Сальвадор в Багамском архипелаге, и <...> день стал считаться официальной датой открытия Америки.Укажите варианты ответов, в которых верно передана главная информация, содержащаяся в тексте.Запишите номера этих предложений.\n",
      "\n",
      "Прочитайте текст и выполните задание.(1)Если над человеческим ухом пропоёт петух, человек на время оглохнет: мощность петушиного крика составляет 130 децибел – то же самое будет, если стоять в пятнадцати метрах от взлетающего реактивного самолёта.(2)Однако петухи не теряют слух от собственного пения, <…> в тот момент, когда петух открывает клюв для крика, наружный слуховой проход у него сужается примерно на четверть, а мягкие ткани наполовину прикрывают барабанную перепонку.(3)У кур слуховой проход устроен немного иначе, и «заткнуть уши» они не могут, но потерять слух от близкого соседства с петухами им не грозит: куры слушают петухов не вплотную, к тому же у птиц слуховые рецепторы довольно быстро регенерируются.Укажите варианты ответов, в которых верно передана ГЛАВНАЯ информация, содержащаяся в тексте.Запишите номера этих предложений.\n",
      "\n"
     ]
    }
   ],
   "source": [
    "for variant in range(8):\n",
    "    variant = json.load(open('data/check/test_{}.json'.format(str(variant).zfill(2))))\n",
    "    print(variant['tasks'][0]['text'])\n",
    "    print()"
   ]
  },
  {
   "cell_type": "code",
   "execution_count": 3,
   "metadata": {
    "scrolled": true
   },
   "outputs": [
    {
     "data": {
      "text/plain": [
       "{'id': '1',\n",
       " 'meta': {'language': 'ru', 'source': 'yandex_test'},\n",
       " 'text': 'Прочитайте текст и выполните задание.(1)Если над человеческим ухом пропоёт петух, человек на время оглохнет: мощность петушиного крика составляет 130 децибел – то же самое будет, если стоять в пятнадцати метрах от взлетающего реактивного самолёта.(2)Однако петухи не теряют слух от собственного пения, <…> в тот момент, когда петух открывает клюв для крика, наружный слуховой проход у него сужается примерно на четверть, а мягкие ткани наполовину прикрывают барабанную перепонку.(3)У кур слуховой проход устроен немного иначе, и «заткнуть уши» они не могут, но потерять слух от близкого соседства с петухами им не грозит: куры слушают петухов не вплотную, к тому же у птиц слуховые рецепторы довольно быстро регенерируются.Укажите варианты ответов, в которых верно передана ГЛАВНАЯ информация, содержащаяся в тексте.Запишите номера этих предложений.',\n",
       " 'attachments': [],\n",
       " 'question': {'type': 'multiple_choice',\n",
       "  'min_choices': 1,\n",
       "  'choices': [{'id': '1',\n",
       "    'text': 'От петушиного крика человек может на какое-то время оглохнуть, однако сами петухи, благодаря своим физиологическим особенностям, не страдают от громкости собственного пения, как и куры, даже несмотря на то, что их слуховой проход устроен иначе.'},\n",
       "   {'id': '2',\n",
       "    'text': 'Крик петуха обладает огромной мощностью, которая равна силе звука взлетающего реактивного самолёта, если находиться на расстоянии всего 15 метров от него.'},\n",
       "   {'id': '3',\n",
       "    'text': 'В момент открывания клюва наружный слуховой проход петуха очень сильно сужается, а мягкие ткани наполовину прикрывают барабанную перепонку, поэтому петух не теряет слух от собственного громкого крика.'},\n",
       "   {'id': '4',\n",
       "    'text': 'Мощность петушиного крика составляет примерно 130 децибел, и такая громкость может на время оглушить человека, однако не наносит никакого вреда ни петухам, ни находящимся рядом с ними курам.'},\n",
       "   {'id': '5',\n",
       "    'text': 'Куры, как и человек, на какое-то время теряют слух, если находятся рядом с поющим петухом, однако благодаря быстрой регенерации слуховых рецепторов, свойственной всем птицам, быстро обретают его вновь.'}]},\n",
       " 'solution': {'correct_variants': [['1', '4'], ['4', '1']]},\n",
       " 'score': 1}"
      ]
     },
     "execution_count": 3,
     "metadata": {},
     "output_type": "execute_result"
    }
   ],
   "source": [
    "task = variant['tasks'][0]\n",
    "task"
   ]
  },
  {
   "cell_type": "code",
   "execution_count": 4,
   "metadata": {},
   "outputs": [],
   "source": [
    "from src.solvers_utils import split_task_and_text\n",
    "from src.bert_embedder import get_features"
   ]
  },
  {
   "cell_type": "code",
   "execution_count": 5,
   "metadata": {},
   "outputs": [
    {
     "data": {
      "text/plain": [
       "('Прочитайте текст и выполните задание.Укажите варианты ответов, в которых верно передана ГЛАВНАЯ информация, содержащаяся в тексте.Запишите номера этих предложений.',\n",
       " '(1)Если над человеческим ухом пропоёт петух, человек на время оглохнет: мощность петушиного крика составляет 130 децибел – то же самое будет, если стоять в пятнадцати метрах от взлетающего реактивного самолёта.(2)Однако петухи не теряют слух от собственного пения, <…> в тот момент, когда петух открывает клюв для крика, наружный слуховой проход у него сужается примерно на четверть, а мягкие ткани наполовину прикрывают барабанную перепонку.(3)У кур слуховой проход устроен немного иначе, и «заткнуть уши» они не могут, но потерять слух от близкого соседства с петухами им не грозит: куры слушают петухов не вплотную, к тому же у птиц слуховые рецепторы довольно быстро регенерируются')"
      ]
     },
     "execution_count": 5,
     "metadata": {},
     "output_type": "execute_result"
    }
   ],
   "source": [
    "split_task_and_text(task['text'])"
   ]
  },
  {
   "cell_type": "code",
   "execution_count": 6,
   "metadata": {},
   "outputs": [],
   "source": [
    "from src.solvers_utils import split_task_and_text\n",
    "from src.bert_embedder import get_features\n",
    "from sklearn.metrics import pairwise_distances\n",
    "import logging\n",
    "\n",
    "def solver_1(task, emb_size=100, metric='cosine'):\n",
    "    \n",
    "    question, text = split_task_and_text(task['text'])\n",
    "    \n",
    "    if 'кажите два предложения' in question:\n",
    "        n_answers = 2\n",
    "    else:\n",
    "        n_answers = 1\n",
    "    logging.debug('N answers: {}'.format(n_answers))\n",
    "    \n",
    "    logging.disable(sys.maxsize)\n",
    "    text_emb = get_features([text], emb_size)\n",
    "    text_emb = np.mean(list(text_emb.values()), axis=0)\n",
    "    \n",
    "    answers_emb = [get_features([choice['text']], emb_size)\n",
    "                   for choice in task['question']['choices']]\n",
    "    answers_emb = np.array([np.mean(list(answer_emb.values()), axis=0)\n",
    "                            for answer_emb in answers_emb])\n",
    "    logging.disable(logging.NOTSET)\n",
    "    \n",
    "    dist = pairwise_distances([text_emb], answers_emb, metric)[0]\n",
    "    logging.debug('Distances: {}'.format(dist))\n",
    "    \n",
    "    answer = np.argsort(dist)[:n_answers] + 1\n",
    "    \n",
    "    return answer.astype(str).tolist()"
   ]
  },
  {
   "cell_type": "code",
   "execution_count": 7,
   "metadata": {
    "scrolled": true
   },
   "outputs": [
    {
     "name": "stdout",
     "output_type": "stream",
     "text": [
      "INFO     : Distances: [53.3433   56.700676 55.595757 54.265663 55.071503]\n"
     ]
    },
    {
     "data": {
      "text/plain": [
       "['1']"
      ]
     },
     "execution_count": 7,
     "metadata": {},
     "output_type": "execute_result"
    }
   ],
   "source": [
    "solver_1(task, 768, 'euclidean')"
   ]
  },
  {
   "cell_type": "code",
   "execution_count": null,
   "metadata": {},
   "outputs": [],
   "source": []
  },
  {
   "cell_type": "code",
   "execution_count": 6,
   "metadata": {},
   "outputs": [
    {
     "data": {
      "text/plain": [
       "array([4, 1, 0, 2, 3])"
      ]
     },
     "execution_count": 6,
     "metadata": {},
     "output_type": "execute_result"
    }
   ],
   "source": [
    "np.argsort([1, 0, 2, 10, -1])"
   ]
  },
  {
   "cell_type": "code",
   "execution_count": 21,
   "metadata": {},
   "outputs": [
    {
     "name": "stderr",
     "output_type": "stream",
     "text": [
      "W0914 02:43:42.323073 140047627564864 estimator.py:1984] Estimator's model_fn (<function model_fn_builder.<locals>.model_fn at 0x7f5f1324ab00>) includes params argument, but params are not passed to Estimator.\n",
      "W0914 02:43:42.323776 140047627564864 estimator.py:1811] Using temporary folder as model directory: /tmp/tmpl_t8lppl\n",
      "W0914 02:43:42.324451 140047627564864 tpu_context.py:211] eval_on_tpu ignored because use_tpu is False.\n"
     ]
    }
   ],
   "source": [
    "text_emb = get_features(['.'.join(task['text'].split('.')[1:-3])], 50)\n",
    "text_emb = np.mean(list(text_emb.values()), axis=0)"
   ]
  },
  {
   "cell_type": "code",
   "execution_count": 22,
   "metadata": {},
   "outputs": [
    {
     "data": {
      "text/plain": [
       "array([-0.7282592 , -1.7589452 , -2.6455202 ,  3.7007298 ,  0.3510464 ,\n",
       "        2.0399728 ,  0.49261966, -2.9653459 , -0.63507146, -1.9149581 ,\n",
       "        1.0712415 , -0.36609668,  1.1525809 ,  1.2414777 ,  1.286407  ,\n",
       "       -0.04015633, -0.12285427, -0.15983468, -0.31544533,  0.81810397,\n",
       "       -1.0578545 , -1.7316316 ,  2.957862  , -0.82667357, -2.377799  ,\n",
       "       -1.9033453 ,  2.1446664 ,  0.0354691 ,  0.97538346,  0.58440053,\n",
       "       -0.8541069 ,  1.4011079 , -3.9944174 ,  0.9101914 ,  1.5156144 ,\n",
       "        0.45890534,  0.47125992, -0.37775838, -0.5213252 , -1.4346595 ,\n",
       "       -1.6102533 , -1.7767421 , -1.4029396 ,  1.0198892 ,  3.1617825 ,\n",
       "       -0.30541503, -1.2078701 ,  1.3548846 ,  0.39209068, -2.1368845 ],\n",
       "      dtype=float32)"
      ]
     },
     "execution_count": 22,
     "metadata": {},
     "output_type": "execute_result"
    }
   ],
   "source": [
    "text_emb"
   ]
  },
  {
   "cell_type": "code",
   "execution_count": 15,
   "metadata": {
    "scrolled": false
   },
   "outputs": [
    {
     "name": "stderr",
     "output_type": "stream",
     "text": [
      "W0914 02:40:08.932776 140047627564864 estimator.py:1984] Estimator's model_fn (<function model_fn_builder.<locals>.model_fn at 0x7f5f1324ab00>) includes params argument, but params are not passed to Estimator.\n",
      "W0914 02:40:08.934615 140047627564864 estimator.py:1811] Using temporary folder as model directory: /tmp/tmp6xjm5d2r\n",
      "W0914 02:40:08.935340 140047627564864 tpu_context.py:211] eval_on_tpu ignored because use_tpu is False.\n",
      "W0914 02:40:15.761628 140047627564864 estimator.py:1984] Estimator's model_fn (<function model_fn_builder.<locals>.model_fn at 0x7f5f0c480680>) includes params argument, but params are not passed to Estimator.\n",
      "W0914 02:40:15.762543 140047627564864 estimator.py:1811] Using temporary folder as model directory: /tmp/tmpjie6hw73\n",
      "W0914 02:40:15.763040 140047627564864 tpu_context.py:211] eval_on_tpu ignored because use_tpu is False.\n",
      "W0914 02:40:22.486649 140047627564864 estimator.py:1984] Estimator's model_fn (<function model_fn_builder.<locals>.model_fn at 0x7f5f1324ab00>) includes params argument, but params are not passed to Estimator.\n",
      "W0914 02:40:22.487591 140047627564864 estimator.py:1811] Using temporary folder as model directory: /tmp/tmpq0tvhbhr\n",
      "W0914 02:40:22.488245 140047627564864 tpu_context.py:211] eval_on_tpu ignored because use_tpu is False.\n",
      "W0914 02:40:29.257529 140047627564864 estimator.py:1984] Estimator's model_fn (<function model_fn_builder.<locals>.model_fn at 0x7f5edc0cd7a0>) includes params argument, but params are not passed to Estimator.\n",
      "W0914 02:40:29.258514 140047627564864 estimator.py:1811] Using temporary folder as model directory: /tmp/tmpqhnzq5lf\n",
      "W0914 02:40:29.259118 140047627564864 tpu_context.py:211] eval_on_tpu ignored because use_tpu is False.\n",
      "W0914 02:40:35.899488 140047627564864 estimator.py:1984] Estimator's model_fn (<function model_fn_builder.<locals>.model_fn at 0x7f5e6c1b07a0>) includes params argument, but params are not passed to Estimator.\n",
      "W0914 02:40:35.900435 140047627564864 estimator.py:1811] Using temporary folder as model directory: /tmp/tmpzbcbma41\n",
      "W0914 02:40:35.905360 140047627564864 tpu_context.py:211] eval_on_tpu ignored because use_tpu is False.\n"
     ]
    }
   ],
   "source": [
    "answers_emb = [get_features([choice['text']], 50) for choice in task['question']['choices']]\n",
    "answers_emb = np.array([np.mean(list(answer_emb.values()), axis=0) for answer_emb in answers_emb])"
   ]
  },
  {
   "cell_type": "code",
   "execution_count": 16,
   "metadata": {},
   "outputs": [],
   "source": [
    "from sklearn.metrics import pairwise_distances"
   ]
  },
  {
   "cell_type": "code",
   "execution_count": 23,
   "metadata": {},
   "outputs": [
    {
     "data": {
      "text/plain": [
       "array([[1.1294763, 1.145634 , 0.62581  , 0.8356792, 0.8329265]],\n",
       "      dtype=float32)"
      ]
     },
     "execution_count": 23,
     "metadata": {},
     "output_type": "execute_result"
    }
   ],
   "source": [
    "pairwise_distances([text_emb], answers_emb, 'cosine')"
   ]
  },
  {
   "cell_type": "code",
   "execution_count": 24,
   "metadata": {},
   "outputs": [
    {
     "data": {
      "text/plain": [
       "array([[15.19437 , 15.502262, 11.744391, 13.798402, 14.269027]],\n",
       "      dtype=float32)"
      ]
     },
     "execution_count": 24,
     "metadata": {},
     "output_type": "execute_result"
    }
   ],
   "source": [
    "pairwise_distances([text_emb], answers_emb)"
   ]
  },
  {
   "cell_type": "code",
   "execution_count": null,
   "metadata": {},
   "outputs": [],
   "source": [
    "../code/bert_embedder.py"
   ]
  },
  {
   "cell_type": "code",
   "execution_count": 7,
   "metadata": {},
   "outputs": [
    {
     "name": "stderr",
     "output_type": "stream",
     "text": [
      "2019-09-13 18:48:36.527 INFO in 'deeppavlov.download'['download'] at line 117: Skipped http://files.deeppavlov.ai/deeppavlov_data/elmo_ru-wiki_600k_steps.tar.gz download because of matching hashes\n",
      "[nltk_data] Downloading package punkt to /usr/share/nltk_data...\n",
      "[nltk_data]   Package punkt is already up-to-date!\n",
      "[nltk_data] Downloading package stopwords to /usr/share/nltk_data...\n",
      "[nltk_data]   Package stopwords is already up-to-date!\n",
      "[nltk_data] Downloading package perluniprops to\n",
      "[nltk_data]     /usr/share/nltk_data...\n",
      "[nltk_data]   Package perluniprops is already up-to-date!\n",
      "[nltk_data] Downloading package nonbreaking_prefixes to\n",
      "[nltk_data]     /usr/share/nltk_data...\n",
      "[nltk_data]   Package nonbreaking_prefixes is already up-to-date!\n",
      "Using TensorFlow backend.\n"
     ]
    }
   ],
   "source": [
    "model = build_model(configs.elmo_embedder.elmo_ru_wiki, download=True)"
   ]
  },
  {
   "cell_type": "code",
   "execution_count": 25,
   "metadata": {},
   "outputs": [
    {
     "data": {
      "text/plain": [
       "[array([[-0.07741089, -0.0929472 , -0.7708945 , ...,  0.4405897 ,\n",
       "         -0.22633982, -0.5019179 ],\n",
       "        [-0.8294297 , -1.0968993 , -0.43525547, ...,  0.04747637,\n",
       "          0.7677173 , -0.14973152]], dtype=float32),\n",
       " array([[-1.4425784 , -0.6769587 , -0.43116167, ...,  1.2079057 ,\n",
       "          0.6422209 , -0.5624919 ]], dtype=float32)]"
      ]
     },
     "execution_count": 25,
     "metadata": {},
     "output_type": "execute_result"
    }
   ],
   "source": [
    "model([['ABC', 'asdf'], ['asd']])"
   ]
  },
  {
   "cell_type": "code",
   "execution_count": 38,
   "metadata": {},
   "outputs": [
    {
     "data": {
      "text/plain": [
       "10"
      ]
     },
     "execution_count": 38,
     "metadata": {},
     "output_type": "execute_result"
    }
   ],
   "source": [
    "len(emb)"
   ]
  },
  {
   "cell_type": "code",
   "execution_count": 10,
   "metadata": {
    "scrolled": true
   },
   "outputs": [],
   "source": [
    "from sklearn.neighbors import NearestNeighbors"
   ]
  },
  {
   "cell_type": "code",
   "execution_count": 17,
   "metadata": {},
   "outputs": [],
   "source": [
    "from sklearn.metrics import pairwise_distances"
   ]
  },
  {
   "cell_type": "code",
   "execution_count": 48,
   "metadata": {},
   "outputs": [],
   "source": [
    "text_emb = model(task['text'].split('.'))\n",
    "text_emb = np.array([word.mean(0) for word in text_emb])"
   ]
  },
  {
   "cell_type": "code",
   "execution_count": 56,
   "metadata": {},
   "outputs": [],
   "source": [
    "answers_emb = model([choice['text'] for choice in task['question']['choices']])\n",
    "answers_emb = np.array([answer_emb.mean(0) for answer_emb in answers_emb])"
   ]
  },
  {
   "cell_type": "code",
   "execution_count": 50,
   "metadata": {},
   "outputs": [
    {
     "data": {
      "text/plain": [
       "(10, 2560)"
      ]
     },
     "execution_count": 50,
     "metadata": {},
     "output_type": "execute_result"
    }
   ],
   "source": [
    "text_emb.shape"
   ]
  },
  {
   "cell_type": "code",
   "execution_count": 57,
   "metadata": {},
   "outputs": [
    {
     "data": {
      "text/plain": [
       "(5, 2560)"
      ]
     },
     "execution_count": 57,
     "metadata": {},
     "output_type": "execute_result"
    }
   ],
   "source": [
    "answers_emb.shape"
   ]
  },
  {
   "cell_type": "code",
   "execution_count": 60,
   "metadata": {},
   "outputs": [
    {
     "data": {
      "text/plain": [
       "array([[0.56168747, 0.56239   , 0.5775629 , 0.52426624, 0.51112986]],\n",
       "      dtype=float32)"
      ]
     },
     "execution_count": 60,
     "metadata": {},
     "output_type": "execute_result"
    }
   ],
   "source": [
    "pairwise_distances([text_emb.mean(0)], answers_emb, 'cosine')"
   ]
  },
  {
   "cell_type": "code",
   "execution_count": 11,
   "metadata": {},
   "outputs": [],
   "source": [
    "nn_model = NearestNeighbors(1)"
   ]
  },
  {
   "cell_type": "code",
   "execution_count": 16,
   "metadata": {},
   "outputs": [
    {
     "ename": "ValueError",
     "evalue": "setting an array element with a sequence.",
     "output_type": "error",
     "traceback": [
      "\u001b[0;31m---------------------------------------------------------------------------\u001b[0m",
      "\u001b[0;31mValueError\u001b[0m                                Traceback (most recent call last)",
      "\u001b[0;32m<ipython-input-16-da1710b7fb35>\u001b[0m in \u001b[0;36m<module>\u001b[0;34m\u001b[0m\n\u001b[0;32m----> 1\u001b[0;31m \u001b[0mnn_model\u001b[0m\u001b[0;34m.\u001b[0m\u001b[0mfit\u001b[0m\u001b[0;34m(\u001b[0m\u001b[0mnp\u001b[0m\u001b[0;34m.\u001b[0m\u001b[0marray\u001b[0m\u001b[0;34m(\u001b[0m\u001b[0memb\u001b[0m\u001b[0;34m)\u001b[0m\u001b[0;34m)\u001b[0m\u001b[0;34m\u001b[0m\u001b[0m\n\u001b[0m",
      "\u001b[0;32m/opt/conda/lib/python3.6/site-packages/sklearn/neighbors/base.py\u001b[0m in \u001b[0;36mfit\u001b[0;34m(self, X, y)\u001b[0m\n\u001b[1;32m    928\u001b[0m             \u001b[0;32mor\u001b[0m \u001b[0;34m[\u001b[0m\u001b[0mn_samples\u001b[0m\u001b[0;34m,\u001b[0m \u001b[0mn_samples\u001b[0m\u001b[0;34m]\u001b[0m \u001b[0;32mif\u001b[0m \u001b[0mmetric\u001b[0m\u001b[0;34m=\u001b[0m\u001b[0;34m'precomputed'\u001b[0m\u001b[0;34m.\u001b[0m\u001b[0;34m\u001b[0m\u001b[0m\n\u001b[1;32m    929\u001b[0m         \"\"\"\n\u001b[0;32m--> 930\u001b[0;31m         \u001b[0;32mreturn\u001b[0m \u001b[0mself\u001b[0m\u001b[0;34m.\u001b[0m\u001b[0m_fit\u001b[0m\u001b[0;34m(\u001b[0m\u001b[0mX\u001b[0m\u001b[0;34m)\u001b[0m\u001b[0;34m\u001b[0m\u001b[0m\n\u001b[0m",
      "\u001b[0;32m/opt/conda/lib/python3.6/site-packages/sklearn/neighbors/base.py\u001b[0m in \u001b[0;36m_fit\u001b[0;34m(self, X)\u001b[0m\n\u001b[1;32m    206\u001b[0m             \u001b[0;32mreturn\u001b[0m \u001b[0mself\u001b[0m\u001b[0;34m\u001b[0m\u001b[0m\n\u001b[1;32m    207\u001b[0m \u001b[0;34m\u001b[0m\u001b[0m\n\u001b[0;32m--> 208\u001b[0;31m         \u001b[0mX\u001b[0m \u001b[0;34m=\u001b[0m \u001b[0mcheck_array\u001b[0m\u001b[0;34m(\u001b[0m\u001b[0mX\u001b[0m\u001b[0;34m,\u001b[0m \u001b[0maccept_sparse\u001b[0m\u001b[0;34m=\u001b[0m\u001b[0;34m'csr'\u001b[0m\u001b[0;34m)\u001b[0m\u001b[0;34m\u001b[0m\u001b[0m\n\u001b[0m\u001b[1;32m    209\u001b[0m \u001b[0;34m\u001b[0m\u001b[0m\n\u001b[1;32m    210\u001b[0m         \u001b[0mn_samples\u001b[0m \u001b[0;34m=\u001b[0m \u001b[0mX\u001b[0m\u001b[0;34m.\u001b[0m\u001b[0mshape\u001b[0m\u001b[0;34m[\u001b[0m\u001b[0;36m0\u001b[0m\u001b[0;34m]\u001b[0m\u001b[0;34m\u001b[0m\u001b[0m\n",
      "\u001b[0;32m/opt/conda/lib/python3.6/site-packages/sklearn/utils/validation.py\u001b[0m in \u001b[0;36mcheck_array\u001b[0;34m(array, accept_sparse, accept_large_sparse, dtype, order, copy, force_all_finite, ensure_2d, allow_nd, ensure_min_samples, ensure_min_features, warn_on_dtype, estimator)\u001b[0m\n\u001b[1;32m    494\u001b[0m             \u001b[0;32mtry\u001b[0m\u001b[0;34m:\u001b[0m\u001b[0;34m\u001b[0m\u001b[0m\n\u001b[1;32m    495\u001b[0m                 \u001b[0mwarnings\u001b[0m\u001b[0;34m.\u001b[0m\u001b[0msimplefilter\u001b[0m\u001b[0;34m(\u001b[0m\u001b[0;34m'error'\u001b[0m\u001b[0;34m,\u001b[0m \u001b[0mComplexWarning\u001b[0m\u001b[0;34m)\u001b[0m\u001b[0;34m\u001b[0m\u001b[0m\n\u001b[0;32m--> 496\u001b[0;31m                 \u001b[0marray\u001b[0m \u001b[0;34m=\u001b[0m \u001b[0mnp\u001b[0m\u001b[0;34m.\u001b[0m\u001b[0masarray\u001b[0m\u001b[0;34m(\u001b[0m\u001b[0marray\u001b[0m\u001b[0;34m,\u001b[0m \u001b[0mdtype\u001b[0m\u001b[0;34m=\u001b[0m\u001b[0mdtype\u001b[0m\u001b[0;34m,\u001b[0m \u001b[0morder\u001b[0m\u001b[0;34m=\u001b[0m\u001b[0morder\u001b[0m\u001b[0;34m)\u001b[0m\u001b[0;34m\u001b[0m\u001b[0m\n\u001b[0m\u001b[1;32m    497\u001b[0m             \u001b[0;32mexcept\u001b[0m \u001b[0mComplexWarning\u001b[0m\u001b[0;34m:\u001b[0m\u001b[0;34m\u001b[0m\u001b[0m\n\u001b[1;32m    498\u001b[0m                 raise ValueError(\"Complex data not supported\\n\"\n",
      "\u001b[0;32m/opt/conda/lib/python3.6/site-packages/numpy/core/_asarray.py\u001b[0m in \u001b[0;36masarray\u001b[0;34m(a, dtype, order)\u001b[0m\n\u001b[1;32m     83\u001b[0m \u001b[0;34m\u001b[0m\u001b[0m\n\u001b[1;32m     84\u001b[0m     \"\"\"\n\u001b[0;32m---> 85\u001b[0;31m     \u001b[0;32mreturn\u001b[0m \u001b[0marray\u001b[0m\u001b[0;34m(\u001b[0m\u001b[0ma\u001b[0m\u001b[0;34m,\u001b[0m \u001b[0mdtype\u001b[0m\u001b[0;34m,\u001b[0m \u001b[0mcopy\u001b[0m\u001b[0;34m=\u001b[0m\u001b[0;32mFalse\u001b[0m\u001b[0;34m,\u001b[0m \u001b[0morder\u001b[0m\u001b[0;34m=\u001b[0m\u001b[0morder\u001b[0m\u001b[0;34m)\u001b[0m\u001b[0;34m\u001b[0m\u001b[0m\n\u001b[0m\u001b[1;32m     86\u001b[0m \u001b[0;34m\u001b[0m\u001b[0m\n\u001b[1;32m     87\u001b[0m \u001b[0;34m\u001b[0m\u001b[0m\n",
      "\u001b[0;31mValueError\u001b[0m: setting an array element with a sequence."
     ]
    }
   ],
   "source": [
    "nn_model.fit(np.array(emb))"
   ]
  },
  {
   "cell_type": "code",
   "execution_count": null,
   "metadata": {},
   "outputs": [],
   "source": []
  },
  {
   "cell_type": "code",
   "execution_count": 42,
   "metadata": {
    "scrolled": true
   },
   "outputs": [
    {
     "name": "stdout",
     "output_type": "stream",
     "text": [
      "Requirement already up-to-date: sklearn in /opt/conda/lib/python3.6/site-packages (0.0)\n",
      "Collecting scipy\n",
      "\u001b[?25l  Downloading https://files.pythonhosted.org/packages/29/50/a552a5aff252ae915f522e44642bb49a7b7b31677f9580cfd11bcc869976/scipy-1.3.1-cp36-cp36m-manylinux1_x86_64.whl (25.2MB)\n",
      "\u001b[K    100% |████████████████████████████████| 25.2MB 1.4MB/s eta 0:00:01\n",
      "\u001b[?25hCollecting numpy\n",
      "  Using cached https://files.pythonhosted.org/packages/e5/e6/c3fdc53aed9fa19d6ff3abf97dfad768ae3afce1b7431f7500000816bda5/numpy-1.17.2-cp36-cp36m-manylinux1_x86_64.whl\n",
      "Collecting pandas\n",
      "\u001b[?25l  Downloading https://files.pythonhosted.org/packages/73/9b/52e228545d14f14bb2a1622e225f38463c8726645165e1cb7dde95bfe6d4/pandas-0.25.1-cp36-cp36m-manylinux1_x86_64.whl (10.5MB)\n",
      "\u001b[K    100% |████████████████████████████████| 10.5MB 4.5MB/s eta 0:00:01\n",
      "\u001b[?25hRequirement not upgraded as not directly required: scikit-learn in /opt/conda/lib/python3.6/site-packages (from sklearn) (0.21.2)\n",
      "Requirement not upgraded as not directly required: pytz>=2017.2 in /opt/conda/lib/python3.6/site-packages (from pandas) (2018.5)\n",
      "Collecting python-dateutil>=2.6.1 (from pandas)\n",
      "\u001b[?25l  Downloading https://files.pythonhosted.org/packages/41/17/c62faccbfbd163c7f57f3844689e3a78bae1f403648a6afb1d0866d87fbb/python_dateutil-2.8.0-py2.py3-none-any.whl (226kB)\n",
      "\u001b[K    100% |████████████████████████████████| 235kB 39.0MB/s ta 0:00:01\n",
      "\u001b[?25hRequirement not upgraded as not directly required: joblib>=0.11 in /opt/conda/lib/python3.6/site-packages (from scikit-learn->sklearn) (0.12.5)\n",
      "Requirement not upgraded as not directly required: six>=1.5 in /opt/conda/lib/python3.6/site-packages (from python-dateutil>=2.6.1->pandas) (1.11.0)\n",
      "\u001b[31mpreprocessing 0.1.13 has requirement nltk==3.2.4, but you'll have nltk 3.2.5 which is incompatible.\u001b[0m\n",
      "\u001b[31mmxnet 1.4.0 has requirement numpy<1.15.0,>=1.8.2, but you'll have numpy 1.17.2 which is incompatible.\u001b[0m\n",
      "\u001b[31mkmodes 0.9 has requirement scikit-learn<0.20.0,>=0.19.0, but you'll have scikit-learn 0.21.2 which is incompatible.\u001b[0m\n",
      "\u001b[31mkmeans-smote 0.1.0 has requirement imbalanced-learn<0.4,>=0.3.1, but you'll have imbalanced-learn 0.5.0.dev0 which is incompatible.\u001b[0m\n",
      "\u001b[31mkmeans-smote 0.1.0 has requirement numpy<1.15,>=1.13, but you'll have numpy 1.17.2 which is incompatible.\u001b[0m\n",
      "\u001b[31mkmeans-smote 0.1.0 has requirement scikit-learn<0.20,>=0.19.0, but you'll have scikit-learn 0.21.2 which is incompatible.\u001b[0m\n",
      "\u001b[31mfastai 0.7.0 has requirement torch<0.4, but you'll have torch 0.4.1 which is incompatible.\u001b[0m\n",
      "\u001b[31mdeeppavlov 0.6.0 has requirement numpy==1.16.4, but you'll have numpy 1.17.2 which is incompatible.\u001b[0m\n",
      "\u001b[31mdeeppavlov 0.6.0 has requirement pandas==0.24.2, but you'll have pandas 0.25.1 which is incompatible.\u001b[0m\n",
      "\u001b[31mdeeppavlov 0.6.0 has requirement scipy==1.3.0, but you'll have scipy 1.3.1 which is incompatible.\u001b[0m\n",
      "\u001b[31mbert-embedding 1.0.1 has requirement numpy==1.14.6, but you'll have numpy 1.17.2 which is incompatible.\u001b[0m\n",
      "Installing collected packages: numpy, scipy, python-dateutil, pandas\n",
      "  Found existing installation: numpy 1.16.4\n",
      "    Uninstalling numpy-1.16.4:\n",
      "      Successfully uninstalled numpy-1.16.4\n",
      "  Found existing installation: scipy 1.3.0\n",
      "    Uninstalling scipy-1.3.0:\n",
      "      Successfully uninstalled scipy-1.3.0\n",
      "  Found existing installation: python-dateutil 2.6.0\n",
      "    Uninstalling python-dateutil-2.6.0:\n",
      "      Successfully uninstalled python-dateutil-2.6.0\n",
      "  Found existing installation: pandas 0.24.2\n",
      "    Uninstalling pandas-0.24.2:\n",
      "      Successfully uninstalled pandas-0.24.2\n",
      "Successfully installed numpy-1.17.2 pandas-0.25.1 python-dateutil-2.8.0 scipy-1.3.1\n",
      "\u001b[33mYou are using pip version 10.0.1, however version 19.2.3 is available.\n",
      "You should consider upgrading via the 'pip install --upgrade pip' command.\u001b[0m\n"
     ]
    }
   ],
   "source": [
    "!pip install --upgrade sklearn scipy numpy pandas"
   ]
  },
  {
   "cell_type": "code",
   "execution_count": null,
   "metadata": {},
   "outputs": [],
   "source": []
  }
 ],
 "metadata": {
  "kernelspec": {
   "display_name": "Python 3",
   "language": "python",
   "name": "python3"
  },
  "language_info": {
   "codemirror_mode": {
    "name": "ipython",
    "version": 3
   },
   "file_extension": ".py",
   "mimetype": "text/x-python",
   "name": "python",
   "nbconvert_exporter": "python",
   "pygments_lexer": "ipython3",
   "version": "3.7.4"
  }
 },
 "nbformat": 4,
 "nbformat_minor": 2
}
