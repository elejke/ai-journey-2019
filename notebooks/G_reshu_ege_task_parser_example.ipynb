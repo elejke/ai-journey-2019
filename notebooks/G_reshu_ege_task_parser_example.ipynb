{
 "cells": [
  {
   "cell_type": "code",
   "execution_count": 12,
   "metadata": {},
   "outputs": [],
   "source": [
    "# !pip install beautifulsoup4"
   ]
  },
  {
   "cell_type": "code",
   "execution_count": 56,
   "metadata": {},
   "outputs": [],
   "source": [
    "import re\n",
    "import os\n",
    "import json\n",
    "import regex\n",
    "import requests\n",
    "\n",
    "from bs4 import BeautifulSoup"
   ]
  },
  {
   "cell_type": "code",
   "execution_count": 57,
   "metadata": {},
   "outputs": [],
   "source": [
    "SCORES_DICT = dict()\n",
    "PROBLEMS_ROOT = \"../data/reshu_ege/\""
   ]
  },
  {
   "cell_type": "markdown",
   "metadata": {},
   "source": [
    "# Task 2 parser (example):"
   ]
  },
  {
   "cell_type": "code",
   "execution_count": 31,
   "metadata": {},
   "outputs": [],
   "source": [
    "source_url = \"https://rus-ege.sdamgia.ru/test?theme=349&print=true\""
   ]
  },
  {
   "cell_type": "code",
   "execution_count": 32,
   "metadata": {},
   "outputs": [],
   "source": [
    "page = requests.get(source_url)\n",
    "text = page.text.replace(\"&shy;\", \"\").replace(\"</i>\", \"\").replace(\"<i>\", \"\").replace(\"</b>\", \"\").\\\n",
    "                        replace(\"<b>\", \"\").replace(\"\\t\", \" \")\n",
    "\n",
    "soup = BeautifulSoup(text, 'html.parser')"
   ]
  },
  {
   "cell_type": "code",
   "execution_count": 33,
   "metadata": {},
   "outputs": [],
   "source": [
    "# get all tasks as an html objects:\n",
    "all_tasks = soup.findAll(\"div\", {\"class\": \"prob_maindiv\"})"
   ]
  },
  {
   "cell_type": "code",
   "execution_count": 34,
   "metadata": {},
   "outputs": [],
   "source": [
    "# get all answers and parse them:\n",
    "answers = re.findall(\"Ответ:[\\ \\tА-ЯЁ0-9ёа-я|]+\", text)\n",
    "answers = list(map(lambda x: re.findall(\"[А-ЯЁ0-9ёа-я|]+\", x.replace(\"Ответ:\", \"\"))[0].split(\"|\"), answers))"
   ]
  },
  {
   "cell_type": "code",
   "execution_count": 35,
   "metadata": {},
   "outputs": [],
   "source": [
    "# get all serial numbers:\n",
    "task_serial_number = re.findall(\"problem\\?id=[0-9]*\", text)"
   ]
  },
  {
   "cell_type": "code",
   "execution_count": 36,
   "metadata": {},
   "outputs": [],
   "source": [
    "# parse tasks (CHANGE CODE HERE):\n",
    "\n",
    "questions_problems = []\n",
    "questions_texts = []\n",
    "questions_serial_numbers = []\n",
    "\n",
    "for id_, task_ in enumerate(all_tasks):\n",
    "    serial_number_ = task_serial_number = re.findall(\"problem\\?id=[0-9]*\", str(task_))\n",
    "    problem_ = list(list(list(task_.children)[1].children)[0])[0]\n",
    "    if len(problem_) == 1:\n",
    "        problem_ = list(list(list(list(task_.children)[1].children)[0])[1].children)[0]\n",
    "\n",
    "    text_ = list(list(list(list(task_.children)[3].children)[0])[0].children)[0].text.replace(\"\\xad\", \"\")\n",
    "\n",
    "    problem_ = problem_.replace(\"\\xa0\", \" \")\n",
    "    text_ = text_.replace(\"\\xa0\", \" \")\n",
    "\n",
    "    questions_problems.append(problem_)\n",
    "    questions_texts.append(text_)\n",
    "    questions_serial_numbers.append(serial_number_)\n",
    "    \n",
    "questions_answers = answers"
   ]
  },
  {
   "cell_type": "code",
   "execution_count": 37,
   "metadata": {},
   "outputs": [],
   "source": [
    "# you need to check at least length of all intance lists:"
   ]
  },
  {
   "cell_type": "code",
   "execution_count": 38,
   "metadata": {},
   "outputs": [
    {
     "name": "stdout",
     "output_type": "stream",
     "text": [
      "82 82 82 82\n"
     ]
    }
   ],
   "source": [
    "print(len(questions_answers), len(questions_answers), len(questions_problems), len(questions_texts))"
   ]
  },
  {
   "cell_type": "code",
   "execution_count": 52,
   "metadata": {},
   "outputs": [],
   "source": [
    "TASK_ID = \"2\""
   ]
  },
  {
   "cell_type": "code",
   "execution_count": 53,
   "metadata": {},
   "outputs": [],
   "source": [
    "SCORES_DICT[TASK_ID] = 1"
   ]
  },
  {
   "cell_type": "code",
   "execution_count": 54,
   "metadata": {},
   "outputs": [],
   "source": [
    "# form tasks according to the structure:\n",
    "\n",
    "final_tasks = []\n",
    "\n",
    "for i in range(len(questions_answers)):\n",
    "    final_task = dict()\n",
    "    final_task[\"id\"] = TASK_ID\n",
    "    final_task[\"meta\"] = {\n",
    "        \"language\": \"rus\",\n",
    "        \"source\": \"site:\" + source_url + \"__________\" + \"id:\" + questions_serial_numbers[i][0]\n",
    "    }\n",
    "    final_task[\"text\"] = (\"Прочитайте текст и выполните задание.\" + \"\\n\" +\n",
    "                          questions_texts[i] + \"\\n\" + \n",
    "                          questions_problems[i] + \"\\n\"\n",
    "                          \"Запишите это слово.\")\n",
    "\n",
    "    final_task[\"question\"] = {\n",
    "        \"type\": \"text\",\n",
    "        \"max_length\": 30,\n",
    "        \"recommended_length\": 20,\n",
    "        \"restriction\": \"word\"\n",
    "      }\n",
    "    \n",
    "    sol_field_name = \"correct_variants\" if len(questions_answers[i]) > 1 else \"correct\"\n",
    "    \n",
    "    if len(questions_answers[i]) > 1:\n",
    "        answer = questions_answers[i]\n",
    "    else:\n",
    "        answer = questions_answers[i][0]\n",
    "    final_task[\"solution\"] = {\n",
    "        sol_field_name: answer\n",
    "    }\n",
    "    \n",
    "    final_task[\"score\"] = SCORES_DICT[final_task[\"id\"]]\n",
    "\n",
    "    final_tasks.append(final_task)"
   ]
  },
  {
   "cell_type": "code",
   "execution_count": 55,
   "metadata": {},
   "outputs": [
    {
     "data": {
      "text/plain": [
       "{'id': '2',\n",
       " 'meta': {'language': 'rus',\n",
       "  'source': 'site:https://rus-ege.sdamgia.ru/test?theme=349&print=true__________id:problem?id=14922'},\n",
       " 'text': 'Прочитайте текст и выполните задание.\\n(1)Если над человеческим ухом пропоёт петух, человек на время оглохнет: мощность петушиного крика составляет 130 децибел — то же самое будет, если стоять в пятнадцати метрах от взлетающего реактивного самолёта. (2)Однако петухи не теряют слух от собственного пения, <…> в тот момент, когда петух открывает клюв для крика, наружный слуховой проход у него сужается примерно на четверть, а мягкие ткани наполовину прикрывают барабанную перепонку. (3)У кур слуховой проход устроен немного иначе, и «заткнуть уши» они не могут, но потерять слух от близкого соседства с петухами им не грозит: куры слушают петухов не вплотную, к тому же у птиц слуховые рецепторы довольно быстро регенерируются.\\nСамостоятельно подберите подчинительный союз, который должен стоять на месте пропуска во втором (2) предложении текста. Запишите этот союз.\\nЗапишите это слово.',\n",
       " 'question': {'type': 'text',\n",
       "  'max_length': 30,\n",
       "  'recommended_length': 20,\n",
       "  'restriction': 'word'},\n",
       " 'solution': {'correct_variants': ['потомучто', 'потому']},\n",
       " 'score': 1}"
      ]
     },
     "execution_count": 55,
     "metadata": {},
     "output_type": "execute_result"
    }
   ],
   "source": [
    "# check one task:\n",
    "\n",
    "final_tasks[-10]"
   ]
  },
  {
   "cell_type": "code",
   "execution_count": 63,
   "metadata": {},
   "outputs": [
    {
     "name": "stdout",
     "output_type": "stream",
     "text": [
      "dir already exists\n"
     ]
    }
   ],
   "source": [
    "# create dirs for task:\n",
    "\n",
    "tasks_directory = os.path.join(PROBLEMS_ROOT, \"task_\" + TASK_ID)\n",
    "\n",
    "if not os.path.exists(tasks_directory):\n",
    "    os.makedirs(tasks_directory)\n",
    "else:\n",
    "    print(\"dir already exists\")"
   ]
  },
  {
   "cell_type": "code",
   "execution_count": 69,
   "metadata": {
    "scrolled": true
   },
   "outputs": [
    {
     "ename": "BaseException",
     "evalue": "Task already exists, comment above check if needed",
     "output_type": "error",
     "traceback": [
      "\u001b[0;31m---------------------------------------------------------------------------\u001b[0m",
      "\u001b[0;31mBaseException\u001b[0m                             Traceback (most recent call last)",
      "\u001b[0;32m<ipython-input-69-5f312268a035>\u001b[0m in \u001b[0;36m<module>\u001b[0;34m\u001b[0m\n\u001b[1;32m     12\u001b[0m         \u001b[0mjson\u001b[0m\u001b[0;34m.\u001b[0m\u001b[0mdump\u001b[0m\u001b[0;34m(\u001b[0m\u001b[0mfile_with_task\u001b[0m\u001b[0;34m,\u001b[0m \u001b[0mopen\u001b[0m\u001b[0;34m(\u001b[0m\u001b[0mtask_path\u001b[0m\u001b[0;34m,\u001b[0m \u001b[0;34m\"w\"\u001b[0m\u001b[0;34m)\u001b[0m\u001b[0;34m,\u001b[0m \u001b[0mensure_ascii\u001b[0m\u001b[0;34m=\u001b[0m\u001b[0;32mFalse\u001b[0m\u001b[0;34m,\u001b[0m \u001b[0mindent\u001b[0m\u001b[0;34m=\u001b[0m\u001b[0;36m4\u001b[0m\u001b[0;34m)\u001b[0m\u001b[0;34m\u001b[0m\u001b[0m\n\u001b[1;32m     13\u001b[0m     \u001b[0;32melse\u001b[0m\u001b[0;34m:\u001b[0m\u001b[0;34m\u001b[0m\u001b[0m\n\u001b[0;32m---> 14\u001b[0;31m         \u001b[0;32mraise\u001b[0m \u001b[0mBaseException\u001b[0m\u001b[0;34m(\u001b[0m\u001b[0;34m\"Task already exists, comment above check if needed\"\u001b[0m\u001b[0;34m)\u001b[0m\u001b[0;34m\u001b[0m\u001b[0m\n\u001b[0m",
      "\u001b[0;31mBaseException\u001b[0m: Task already exists, comment above check if needed"
     ]
    }
   ],
   "source": [
    "# save all the tasks to the dir:\n",
    "\n",
    "for id_, task_ in enumerate(final_tasks):\n",
    "    file_with_task = {\n",
    "        \"tasks\": [\n",
    "            task_\n",
    "        ]\n",
    "    }\n",
    "    task_filename = re.findall(\"[0-9]+\", questions_serial_numbers[id_][0])[0] + \".json\"\n",
    "    task_path = os.path.join(tasks_directory, task_filename)\n",
    "    if not os.path.exists(task_path):\n",
    "        json.dump(file_with_task, open(task_path, \"w\"), ensure_ascii=False, indent=4)\n",
    "    else:\n",
    "        raise BaseException(\"Task already exists, comment this  check if needed\")"
   ]
  },
  {
   "cell_type": "code",
   "execution_count": null,
   "metadata": {},
   "outputs": [],
   "source": []
  }
 ],
 "metadata": {
  "kernelspec": {
   "display_name": "Python 3",
   "language": "python",
   "name": "python3"
  },
  "language_info": {
   "codemirror_mode": {
    "name": "ipython",
    "version": 3
   },
   "file_extension": ".py",
   "mimetype": "text/x-python",
   "name": "python",
   "nbconvert_exporter": "python",
   "pygments_lexer": "ipython3",
   "version": "3.6.6"
  }
 },
 "nbformat": 4,
 "nbformat_minor": 2
}
