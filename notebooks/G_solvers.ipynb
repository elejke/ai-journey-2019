{
 "cells": [
  {
   "cell_type": "code",
   "execution_count": 1,
   "metadata": {},
   "outputs": [],
   "source": [
    "# !wget http://dict.ruslang.ru/Freq2011.zip -O ../data/dictionaries/Freq2011.zip\n",
    "# !unzip ../data/dictionaries/Freq2011.zip && mv freqrnc* ../data/dictionaries/ && rm ../data/dictionaries/Freq2011.zip"
   ]
  },
  {
   "cell_type": "code",
   "execution_count": 2,
   "metadata": {},
   "outputs": [],
   "source": [
    "import re\n",
    "import os\n",
    "import glob\n",
    "import json\n",
    "import numpy as np\n",
    "import pandas as pd"
   ]
  },
  {
   "cell_type": "code",
   "execution_count": 3,
   "metadata": {},
   "outputs": [],
   "source": [
    "TEST_FOLDER = \"/root/shared/ai-journey-2019/data/check/\""
   ]
  },
  {
   "cell_type": "code",
   "execution_count": 4,
   "metadata": {},
   "outputs": [],
   "source": [
    "tests_list = glob.glob(os.path.join(TEST_FOLDER, \"*.json\"))"
   ]
  },
  {
   "cell_type": "code",
   "execution_count": 5,
   "metadata": {},
   "outputs": [],
   "source": [
    "tests = []\n",
    "tests_dfs = []\n",
    "\n",
    "for test_path in tests_list:\n",
    "    test_ = json.load(open(test_path))\n",
    "    tests.append(test_)\n",
    "    tests_dfs.append(pd.DataFrame.from_dict(test_['tasks']))"
   ]
  },
  {
   "cell_type": "code",
   "execution_count": 6,
   "metadata": {},
   "outputs": [],
   "source": [
    "df_tests = pd.concat(tests_dfs)"
   ]
  },
  {
   "cell_type": "code",
   "execution_count": null,
   "metadata": {},
   "outputs": [],
   "source": []
  },
  {
   "cell_type": "code",
   "execution_count": 7,
   "metadata": {},
   "outputs": [],
   "source": [
    "df_dict = pd.read_table(\"../data/dictionaries/freqrnc2011.csv\")"
   ]
  },
  {
   "cell_type": "markdown",
   "metadata": {},
   "source": [
    "# Analysis:"
   ]
  },
  {
   "cell_type": "markdown",
   "metadata": {},
   "source": [
    "# 11-12 questions:"
   ]
  },
  {
   "cell_type": "code",
   "execution_count": 8,
   "metadata": {},
   "outputs": [],
   "source": [
    "# !wget https://raw.githubusercontent.com/danakt/russian-words/master/russian.txt -O ../data/dictionaries/russian.txt"
   ]
  },
  {
   "cell_type": "code",
   "execution_count": 9,
   "metadata": {},
   "outputs": [],
   "source": [
    "encoding = \"windows-1251\""
   ]
  },
  {
   "cell_type": "code",
   "execution_count": 17,
   "metadata": {},
   "outputs": [
    {
     "name": "stdout",
     "output_type": "stream",
     "text": [
      "CPU times: user 3.41 s, sys: 244 ms, total: 3.66 s\n",
      "Wall time: 3.65 s\n"
     ]
    }
   ],
   "source": [
    "%%time\n",
    "\n",
    "df_dict_full = pd.read_csv(\"../data/dictionaries/russian_1.5kk_words.txt\", encoding=encoding, header=None)\n",
    "df_dict_full.columns = [\"Lemma\"]\n",
    "big_words_set = frozenset(df_dict_full[\"Lemma\"].values)"
   ]
  },
  {
   "cell_type": "code",
   "execution_count": 18,
   "metadata": {},
   "outputs": [],
   "source": [
    "df_dict = pd.read_table(\"../data/dictionaries/freqrnc2011.csv\")\n",
    "small_words_dict = df_dict.set_index(\"Lemma\")[[\"Freq(ipm)\"]].to_dict()[\"Freq(ipm)\"]"
   ]
  },
  {
   "cell_type": "code",
   "execution_count": 19,
   "metadata": {},
   "outputs": [],
   "source": [
    "def remove_additional(word):\n",
    "    additional_words = re.findall(\"\\([\\w\\ ]+\\)\", word)\n",
    "\n",
    "    for additional_word in additional_words:\n",
    "        word = word.replace(additional_word, \"\")\n",
    "        word = word.strip()\n",
    "        \n",
    "    return word"
   ]
  },
  {
   "cell_type": "code",
   "execution_count": null,
   "metadata": {},
   "outputs": [],
   "source": []
  },
  {
   "cell_type": "code",
   "execution_count": 20,
   "metadata": {},
   "outputs": [],
   "source": [
    "def check_pair(word_1, word_2):\n",
    "    # TODO: EMBEDDINGS NEEDED TO USE NOT ONLY WORD BUT WITH CONTEXT\n",
    "    word_1 = remove_additional(word_1)\n",
    "    word_2 = remove_additional(word_2)\n",
    "    russian_letters = list(\"абвгдеёжзийклмнопрстуфхцчшщъыьэюя\") + [\"\"]\n",
    "    letters_1 = []\n",
    "    letters_2 = []\n",
    "    for letter_ in russian_letters:\n",
    "        if word_1.replace(\"..\", letter_) in big_words_set:\n",
    "            letters_1.append(letter_)\n",
    "#     print(letters_1)\n",
    "    for letter_ in letters_1:\n",
    "        if word_2.replace(\"..\", letter_) in big_words_set:\n",
    "            letters_2.append(letter_)\n",
    "#     print(letters_2)\n",
    "    return list(set(letters_2).intersection(letters_1))"
   ]
  },
  {
   "cell_type": "code",
   "execution_count": null,
   "metadata": {},
   "outputs": [],
   "source": []
  },
  {
   "cell_type": "code",
   "execution_count": 41,
   "metadata": {},
   "outputs": [],
   "source": [
    "def solver_11_12(task, df_dict):\n",
    "    if \"Выпишите слово\" in task[\"text\"]:\n",
    "        bukva_list = re.findall(\"буква [А-Яа-я]\", task[\"text\"])\n",
    "    \n",
    "        if len(bukva_list):\n",
    "            bukva = bukva_list[-1][-1].lower()\n",
    "            words_list = task[\"text\"].replace(\"..\", bukva).split(\"\\n\")[1:]\n",
    "            conf = 0.\n",
    "            most_conf_word = None\n",
    "            for word_ in words_list:\n",
    "                word_ = remove_additional(word_)\n",
    "                temp_conf = small_words_dict.get(word_, -1.0)\n",
    "                if temp_conf > conf:\n",
    "                    conf = temp_conf\n",
    "                    most_conf_word = word_\n",
    "            if conf == 0.:\n",
    "                for word_ in words_list:\n",
    "                    word_ = remove_additional(word_)\n",
    "                    words_ = big_words_set.intersection({word_})\n",
    "                    if len(words_):\n",
    "                        conf = 1.0\n",
    "                        most_conf_word = word_\n",
    "                   \n",
    "            print(most_conf_word, task['solution']['correct'])\n",
    "            \n",
    "    elif \"пропущена одна и та же буква\":\n",
    "        ids = []\n",
    "        for answer_ in task[\"question\"][\"choices\"]:\n",
    "            if len(check_pair(*answer_[\"text\"].split(\", \"))):\n",
    "                ids.append(answer_['id'])\n",
    "        \n",
    "        print(ids, task[\"solution\"])\n",
    "        \n",
    "    else:\n",
    "        print(\"Unknown question type\")"
   ]
  },
  {
   "cell_type": "code",
   "execution_count": null,
   "metadata": {},
   "outputs": [],
   "source": []
  },
  {
   "cell_type": "code",
   "execution_count": 42,
   "metadata": {},
   "outputs": [
    {
     "name": "stdout",
     "output_type": "stream",
     "text": [
      "затмевает затмевает\n",
      "\n",
      "['2', '4', '5'] {'correct_variants': [['2', '4'], ['4', '2']]}\n",
      "\n",
      "заведовать заведовать\n",
      "\n",
      "болевой болевой\n",
      "\n",
      "['3', '5'] {'correct_variants': [['3', '5'], ['5', '3']]}\n",
      "\n",
      "['2', '3', '5'] {'correct': ['2', '5']}\n",
      "\n",
      "рыжеватый рыжеватый\n",
      "\n",
      "['2', '4', '5'] {'correct': ['2', '4', '5']}\n",
      "\n",
      "вишенка вишенка\n",
      "\n",
      "приказчик приказчик\n",
      "\n",
      "CPU times: user 0 ns, sys: 2.36 ms, total: 2.36 ms\n",
      "Wall time: 1.98 ms\n"
     ]
    }
   ],
   "source": [
    "%%time\n",
    "\n",
    "for test_ in tests:\n",
    "    task_ = test_['tasks'][10]\n",
    "    \n",
    "    solver_11_12(task_, df_dict)\n",
    "    print()"
   ]
  },
  {
   "cell_type": "code",
   "execution_count": 43,
   "metadata": {},
   "outputs": [
    {
     "name": "stdout",
     "output_type": "stream",
     "text": [
      "мыслящий мыслящий\n",
      "\n",
      "['2', '4', '5'] {'correct': ['2', '4', '5']}\n",
      "\n",
      "выветрившийся выветрившийся\n",
      "\n",
      "заклеишь заклеишь\n",
      "\n",
      "['1', '2', '3', '5'] {'correct': ['1', '3', '5']}\n",
      "\n",
      "['1', '4'] {'correct': ['1', '4']}\n",
      "\n",
      "неотъемлемый неотъемлемый\n",
      "\n",
      "['3', '4'] {'correct_variants': [['3', '4'], ['4', '3']]}\n",
      "\n",
      "мелют мелют\n",
      "\n",
      "видимый видимый\n",
      "\n",
      "CPU times: user 2.49 ms, sys: 689 µs, total: 3.17 ms\n",
      "Wall time: 2.28 ms\n"
     ]
    }
   ],
   "source": [
    "%%time\n",
    "\n",
    "for test_ in tests:\n",
    "    task_ = test_['tasks'][11]\n",
    "    \n",
    "    solver_11_12(task_, df_dict)\n",
    "    print()"
   ]
  },
  {
   "cell_type": "code",
   "execution_count": null,
   "metadata": {},
   "outputs": [],
   "source": []
  }
 ],
 "metadata": {
  "kernelspec": {
   "display_name": "Python 3",
   "language": "python",
   "name": "python3"
  },
  "language_info": {
   "codemirror_mode": {
    "name": "ipython",
    "version": 3
   },
   "file_extension": ".py",
   "mimetype": "text/x-python",
   "name": "python",
   "nbconvert_exporter": "python",
   "pygments_lexer": "ipython3",
   "version": "3.6.6"
  }
 },
 "nbformat": 4,
 "nbformat_minor": 2
}
