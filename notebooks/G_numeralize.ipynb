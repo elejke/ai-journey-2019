{
 "cells": [
  {
   "cell_type": "code",
   "execution_count": 437,
   "metadata": {},
   "outputs": [],
   "source": [
    "import math"
   ]
  },
  {
   "cell_type": "code",
   "execution_count": 438,
   "metadata": {},
   "outputs": [],
   "source": [
    "GENDER_MASCULINE = 0\n",
    "GENDER_FEMININE = 1\n",
    "GENDER_NEUTER = 2\n",
    "\n",
    "CASE_NOMINATIVE = 0\n",
    "CASE_GENITIVE = 1\n",
    "CASE_DATIVE = 2\n",
    "CASE_ACCUSATIVE = 3\n",
    "CASE_INSTRUMENTAL = 4\n",
    "CASE_PREPOSITIONAL = 5"
   ]
  },
  {
   "cell_type": "code",
   "execution_count": 439,
   "metadata": {},
   "outputs": [],
   "source": [
    "TENS = [\n",
    "    False,\n",
    "    False,\n",
    "    ['двадцать', 'двадцати', 'двадцати', 'двадцать', 'двадцатью', 'двадцати'],\n",
    "    ['тридцать', 'тридцати', 'тридцати', 'тридцать', 'тридцатью', 'тридцати'],\n",
    "    ['сорок', 'сорока', 'сорока', 'сорок', 'сорока', 'сорока'],\n",
    "    ['пятьдесят', 'пятидесяти', 'пятидесяти', 'пятьдесят', 'пятьюдесятью', 'пятидесяти'],\n",
    "    ['шестьдесят', 'шестидесяти', 'шестидесяти', 'шестьдесят', 'шестьюдесятью', 'шестидесяти'],\n",
    "    ['семьдесят', 'семидесяти', 'семидесяти', 'семьдесят', 'семьюдесятью', 'семидесяти'],\n",
    "    ['восемьдесят', 'восьмидесяти', 'восьмидесяти', 'восемьдесят', 'восемьюдесятью', 'восьмидесяти'],\n",
    "    ['девяносто', 'девяноста', 'девяноста', 'девяносто', 'девяноста', 'девяноста']\n",
    "]"
   ]
  },
  {
   "cell_type": "code",
   "execution_count": 440,
   "metadata": {},
   "outputs": [],
   "source": [
    "HUNDREDS = [\n",
    "    False,\n",
    "    ['сто', 'ста', 'ста', 'сто', 'ста', 'ста'],\n",
    "    ['двести', 'двухсот', 'двумстам', 'двести', 'двумястами', 'двухстах'],\n",
    "    ['триста', 'трёхсот', 'трёмстам', 'триста', 'тремястами', 'трёхстах'],\n",
    "    ['четыреста', 'четырёхсот', 'четырёмстам', 'четыреста', 'четырьмястами', 'четырёхстах'],\n",
    "    ['пятьсот', 'пятисот', 'пятистам', 'пятьсот', 'пятьюстами', 'пятистах'],\n",
    "    ['шестьсот', 'шестисот', 'шестистам', 'шестьсот', 'шестьюстами', 'шестистах'],\n",
    "    ['семьсот', 'семисот', 'семистам', 'семьсот', 'семьюстами', 'семистах'],\n",
    "    ['восемьсот', 'восьмисот', 'восьмистам', 'восемьсот', 'восемьюстами', 'восьмистах'],\n",
    "    ['девятьсот', 'девятисот', 'девятистам', 'девятьсот', 'девятьюстами', 'девятистах']\n",
    "]"
   ]
  },
  {
   "cell_type": "code",
   "execution_count": null,
   "metadata": {},
   "outputs": [],
   "source": []
  },
  {
   "cell_type": "code",
   "execution_count": 441,
   "metadata": {},
   "outputs": [],
   "source": [
    "bases = ['один', 'две', 'три', 'четыр', 'пят', 'шест', 'сем', 'восем', 'девят']\n",
    "suffixes = ['надцать', 'надцати', 'надцати', 'надцать', 'надцатью', 'надцати']\n",
    "MINORS_BIG = list(map(lambda x, y: [x + y_ for y_ in y], bases, [suffixes] * len(bases)))\n",
    "\n",
    "MINORS = [\n",
    "        ['ноль', 'нуля', 'нулю', 'ноль', 'нулём', 'нуле'],\n",
    "        [\n",
    "            ['один', 'одна', 'одно'],\n",
    "            ['одного', 'одной', 'одного'],\n",
    "            ['одному', 'одной', 'одному'],\n",
    "            [['одного', 'один'], 'одну', 'одно'],\n",
    "            ['одним', 'одной', 'одним'],\n",
    "            ['одном', 'одной', 'одном']\n",
    "        ],\n",
    "        [\n",
    "            ['два', 'две', 'два'],\n",
    "            'двух',\n",
    "            'двум',\n",
    "            [['двух', 'два'], ['двух', 'две'], 'два'],\n",
    "            'двумя',\n",
    "            'двух'\n",
    "        ],\n",
    "        [\n",
    "            'три',\n",
    "            'трёх',\n",
    "            'трём',\n",
    "            [['трёх', 'три'], ['трёх', 'три'], 'три'],\n",
    "            'тремя',\n",
    "            'трёх'\n",
    "        ],\n",
    "        [\n",
    "            'четыре',\n",
    "            'четырёх',\n",
    "            'четырём',\n",
    "            [['четырёх', 'четыре'], ['четырёх', 'четыре'], 'четыре'],\n",
    "            'четырьмя',\n",
    "            'четырёх'\n",
    "        ],\n",
    "        ['пять', 'пяти', 'пяти', 'пять', 'пятью', 'пяти'],\n",
    "        ['шесть', 'шести', 'шести', 'шесть', 'шестью', 'шести'],\n",
    "        ['семь', 'семи', 'семи', 'семь', 'семью', 'семи'],\n",
    "        ['восемь', 'восьми', 'восьми', 'восемь', 'восемью', 'восьми'],\n",
    "        ['девять', 'девяти', 'девяти', 'девять', 'девятью', 'девяти'],\n",
    "        ['десять', 'десяти', 'десяти', 'десять', 'десятью', 'десяти']\n",
    "] + MINORS_BIG\n"
   ]
  },
  {
   "cell_type": "code",
   "execution_count": null,
   "metadata": {},
   "outputs": [],
   "source": []
  },
  {
   "cell_type": "code",
   "execution_count": null,
   "metadata": {},
   "outputs": [],
   "source": [
    "def generate_all_larges():\n",
    "    larges = [False,\n",
    "              [\n",
    "                GENDER_FEMININE,\n",
    "                ['тысяча', 'тысячи', 'тысяч'],\n",
    "                ['тысячи', 'тысяч', 'тысяч'],\n",
    "                ['тысяче', 'тысячам', 'тысячам'],\n",
    "                ['тысячу', 'тысячи', 'тысяч'],\n",
    "                ['тысячей', 'тысячами', 'тысячами'],\n",
    "                ['тысяче', 'тысячах', 'тысячах']\n",
    "              ]\n",
    "             ]\n",
    "    \n",
    "    bases = ['миллион', 'миллиард', 'триллион']\n",
    "    kases = [\n",
    "        [ '', 'а', 'ов'],\n",
    "        ['а', 'ов', 'ов'],\n",
    "        ['у', 'ам', 'ам'],\n",
    "        ['', 'а', 'ов'],\n",
    "        ['ом', 'ами', 'ами'],\n",
    "        ['е', 'ах', 'ах']\n",
    "    ]\n",
    "\n",
    "    for base_ in bases:\n",
    "        temp_kase = [GENDER_MASCULINE]\n",
    "        for kase_ in kases:\n",
    "            temp_kase.append([\"{}{}\".format(base_, k_) for k_ in kase_])\n",
    "        larges.append(temp_kase)\n",
    "    \n",
    "    return larges"
   ]
  },
  {
   "cell_type": "code",
   "execution_count": 443,
   "metadata": {},
   "outputs": [],
   "source": [
    "LARGES = generate_all_larges()"
   ]
  },
  {
   "cell_type": "code",
   "execution_count": null,
   "metadata": {},
   "outputs": [],
   "source": []
  },
  {
   "cell_type": "code",
   "execution_count": 467,
   "metadata": {},
   "outputs": [],
   "source": [
    "def numeralize(number, gender=None, kase=None, animate=None):\n",
    "    ## Normalize params\n",
    "    number = abs(number)\n",
    "    gender = gender if gender else GENDER_MASCULINE\n",
    "    kase = kase if kase else CASE_NOMINATIVE\n",
    "    animate = animate\n",
    "\n",
    "    ## Collect chunks\n",
    "    result = [];\n",
    "\n",
    "    ## Descend known powers of thousand\n",
    "#     for (var l = LARGES.length, i = l; i >= 0; i--) {\n",
    "    l = len(LARGES)\n",
    "    for i in range(l, -1, -1):\n",
    "#         print(i)\n",
    "        base = 10 ** (i * 3)\n",
    "        current = math.floor(number / base)\n",
    "        number = number % base;\n",
    "\n",
    "        if current:\n",
    "#             var words = i ? LARGES[i] : null;\n",
    "            words = LARGES[i] if i else None\n",
    "            numeral = small(current, words[0] if words else gender, kase, False if words else animate)\n",
    "#             print(numeral)\n",
    "            if numeral:\n",
    "#                 print(numeral)\n",
    "                result.append(numeral)\n",
    "#                 print(words)\n",
    "                if words:\n",
    "#                     print([current] + [words[2]])\n",
    "                    plural = pluralize(current, words[kase + 1][0], words[kase + 1][1], words[kase + 1][2])\n",
    "                    result.append(plural)\n",
    "\n",
    "    ## Zero\n",
    "    if not len(result): \n",
    "        return MINORS[0][kase]\n",
    "\n",
    "    ## Return\n",
    "#     print(result)\n",
    "    return \" \".join(result)"
   ]
  },
  {
   "cell_type": "code",
   "execution_count": 468,
   "metadata": {},
   "outputs": [],
   "source": [
    "def pluralize(count, one=None, two=None, five=None):\n",
    "    count = math.floor(abs(count)) % 100\n",
    "    \n",
    "    if count > 10 and count < 20: \n",
    "        return five\n",
    "    \n",
    "    count %= 10\n",
    "    \n",
    "    if  1 == count: \n",
    "        return one\n",
    "    if count >= 2 and count <= 4: \n",
    "        return two\n",
    "    return five"
   ]
  },
  {
   "cell_type": "code",
   "execution_count": 469,
   "metadata": {},
   "outputs": [],
   "source": [
    "def small(number, gender, kase, animate):\n",
    "    ## Zero\n",
    "    if 0 == number:\n",
    "        return \"\"\n",
    "\n",
    "    ## Collect chunks\n",
    "    result = [];\n",
    "\n",
    "    ## Hundreds\n",
    "    hundreds = math.floor(number // 100)\n",
    "\n",
    "    if HUNDREDS[hundreds]:\n",
    "        result.append(HUNDREDS[hundreds][kase])\n",
    "\n",
    "    ## Tens\n",
    "    tens = math.floor(number % 100 // 10);\n",
    "    if TENS[tens]:\n",
    "        result.append(TENS[tens][kase])\n",
    "\n",
    "    ## Minors\n",
    "    minors = number % 100;\n",
    "    if minors >= len(MINORS):\n",
    "        minors = number % 10\n",
    "\n",
    "    if minors:\n",
    "        minors = MINORS[minors][kase];\n",
    "        if not isinstance(minors, str):\n",
    "            minors = minors[gender];\n",
    "            if not isinstance(minors, str):\n",
    "                minors = minors[0 if animate else 1];\n",
    "        result.append(minors);\n",
    "\n",
    "    ## Return\n",
    "#     print(result)\n",
    "    return \" \".join(result)"
   ]
  },
  {
   "cell_type": "code",
   "execution_count": null,
   "metadata": {},
   "outputs": [
    {
     "data": {
      "text/plain": [
       "'два'"
      ]
     },
     "execution_count": 486,
     "metadata": {},
     "output_type": "execute_result"
    }
   ],
   "source": [
    "numeralize(2012, kase=0, gender=0)"
   ]
  },
  {
   "cell_type": "code",
   "execution_count": null,
   "metadata": {},
   "outputs": [],
   "source": []
  }
 ],
 "metadata": {
  "kernelspec": {
   "display_name": "Python 3",
   "language": "python",
   "name": "python3"
  },
  "language_info": {
   "codemirror_mode": {
    "name": "ipython",
    "version": 3
   },
   "file_extension": ".py",
   "mimetype": "text/x-python",
   "name": "python",
   "nbconvert_exporter": "python",
   "pygments_lexer": "ipython3",
   "version": "3.6.6"
  }
 },
 "nbformat": 4,
 "nbformat_minor": 2
}
