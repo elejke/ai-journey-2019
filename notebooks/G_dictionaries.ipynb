{
 "cells": [
  {
   "cell_type": "code",
   "execution_count": 262,
   "metadata": {},
   "outputs": [],
   "source": [
    "import os\n",
    "import numpy as np\n",
    "import pandas as pd"
   ]
  },
  {
   "cell_type": "markdown",
   "metadata": {},
   "source": [
    "# Хаген М. Орфоэпия существительных"
   ]
  },
  {
   "cell_type": "code",
   "execution_count": 113,
   "metadata": {},
   "outputs": [],
   "source": [
    "# !wget http://www.speakrus.ru/dict/hagen-orf.zip -O ../models/data/dictionaries/hagen-orf.zip\n",
    "# !unzip ../models/data/dictionaries/hagen-orf.zip && mv hagen-orf.txt ../models/data/dictionaries"
   ]
  },
  {
   "cell_type": "code",
   "execution_count": 114,
   "metadata": {},
   "outputs": [],
   "source": [
    "df_dict = pd.read_csv(\"../models/data/dictionaries/hagen-orf.txt\", encoding=\"windows-1251\", header=None, sep=\"|\")"
   ]
  },
  {
   "cell_type": "code",
   "execution_count": 130,
   "metadata": {},
   "outputs": [
    {
     "data": {
      "text/html": [
       "<div>\n",
       "<style scoped>\n",
       "    .dataframe tbody tr th:only-of-type {\n",
       "        vertical-align: middle;\n",
       "    }\n",
       "\n",
       "    .dataframe tbody tr th {\n",
       "        vertical-align: top;\n",
       "    }\n",
       "\n",
       "    .dataframe thead th {\n",
       "        text-align: right;\n",
       "    }\n",
       "</style>\n",
       "<table border=\"1\" class=\"dataframe\">\n",
       "  <thead>\n",
       "    <tr style=\"text-align: right;\">\n",
       "      <th></th>\n",
       "      <th>0</th>\n",
       "      <th>1</th>\n",
       "      <th>2</th>\n",
       "    </tr>\n",
       "  </thead>\n",
       "  <tbody>\n",
       "    <tr>\n",
       "      <td>319623</td>\n",
       "      <td>моделировках</td>\n",
       "      <td>модэлиро'вках</td>\n",
       "      <td>1438096</td>\n",
       "    </tr>\n",
       "    <tr>\n",
       "      <td>248693</td>\n",
       "      <td>контрнаступление</td>\n",
       "      <td>ко`нтрнаступле'ние</td>\n",
       "      <td>423035</td>\n",
       "    </tr>\n",
       "    <tr>\n",
       "      <td>568908</td>\n",
       "      <td>сабур</td>\n",
       "      <td>сабу'р</td>\n",
       "      <td>285435</td>\n",
       "    </tr>\n",
       "    <tr>\n",
       "      <td>3002</td>\n",
       "      <td>автокара</td>\n",
       "      <td>автока'ра</td>\n",
       "      <td>1190281</td>\n",
       "    </tr>\n",
       "    <tr>\n",
       "      <td>195817</td>\n",
       "      <td>идеалистками</td>\n",
       "      <td>идеали'стками</td>\n",
       "      <td>1417107</td>\n",
       "    </tr>\n",
       "    <tr>\n",
       "      <td>231956</td>\n",
       "      <td>кистень</td>\n",
       "      <td>кисте'нь</td>\n",
       "      <td>245308</td>\n",
       "    </tr>\n",
       "    <tr>\n",
       "      <td>509637</td>\n",
       "      <td>продавливания</td>\n",
       "      <td>прода'вливания</td>\n",
       "      <td>1555865</td>\n",
       "    </tr>\n",
       "    <tr>\n",
       "      <td>762611</td>\n",
       "      <td>эпохой</td>\n",
       "      <td>эпо'хой</td>\n",
       "      <td>22669</td>\n",
       "    </tr>\n",
       "    <tr>\n",
       "      <td>649666</td>\n",
       "      <td>татарку</td>\n",
       "      <td>тата'рку</td>\n",
       "      <td>395012</td>\n",
       "    </tr>\n",
       "    <tr>\n",
       "      <td>619586</td>\n",
       "      <td>состязательности</td>\n",
       "      <td>состяза'тельности</td>\n",
       "      <td>1488710</td>\n",
       "    </tr>\n",
       "  </tbody>\n",
       "</table>\n",
       "</div>"
      ],
      "text/plain": [
       "                          0                     1        2\n",
       "319623        моделировках         модэлиро'вках   1438096\n",
       "248693    контрнаступление    ко`нтрнаступле'ние    423035\n",
       "568908               сабур                сабу'р    285435\n",
       "3002              автокара             автока'ра   1190281\n",
       "195817        идеалистками         идеали'стками   1417107\n",
       "231956             кистень              кисте'нь    245308\n",
       "509637       продавливания        прода'вливания   1555865\n",
       "762611              эпохой               эпо'хой     22669\n",
       "649666             татарку              тата'рку    395012\n",
       "619586    состязательности     состяза'тельности   1488710"
      ]
     },
     "execution_count": 130,
     "metadata": {},
     "output_type": "execute_result"
    }
   ],
   "source": [
    "df_dict.sample(10)"
   ]
  },
  {
   "cell_type": "markdown",
   "metadata": {},
   "source": [
    "# Хаген М. Полная парадигма. Морфология"
   ]
  },
  {
   "cell_type": "code",
   "execution_count": 244,
   "metadata": {},
   "outputs": [],
   "source": [
    "# !wget http://www.speakrus.ru/dict/hagen-morph.rar -O ../models/data/dictionaries/hagen-morph.rar\n",
    "# !echo 'deb http://mirror.yandex.ru/debian/ stable main contrib non-free' >> /etc/apt/sources.list.d/wheezy.non-free.list\n",
    "# !echo 'deb http://mirror.yandex.ru/debian/ stable main contrib non-free' >> /etc/apt/sources.list.d/wheezy.non-free.list\n",
    "# !echo 'deb-src http://mirror.yandex.ru/debian/ stable main contrib non-free' >> /etc/apt/sources.list.d/wheezy.non-free.list\n",
    "# !echo 'deb http://security.debian.org/ stable/updates main contrib non-free' >> /etc/apt/sources.list.d/wheezy.non-free.list\n",
    "# !apt-get update\n",
    "# !apt install unrar -y\n",
    "# !unrar e ../models/data/dictionaries/hagen-morph.rar\n",
    "# !mv Полная\\ парадигма.\\ Морфология.txt ../models/data/dictionaries/hagen-morph.txt"
   ]
  },
  {
   "cell_type": "code",
   "execution_count": 236,
   "metadata": {},
   "outputs": [],
   "source": [
    "df_dict = pd.read_csv(\"../models/data/dictionaries/hagen-morph.txt\", encoding=\"windows-1251\", header=None, sep=';')"
   ]
  },
  {
   "cell_type": "code",
   "execution_count": 237,
   "metadata": {},
   "outputs": [],
   "source": [
    "df_dict = df_dict[0].str.split(\"|\", expand=True)"
   ]
  },
  {
   "cell_type": "code",
   "execution_count": 238,
   "metadata": {},
   "outputs": [],
   "source": [
    "df_stress = df_dict[[0, 2]].copy()\n",
    "df_stress.columns = [\"word\", \"stress\"]\n",
    "df_stress[\"word\"] = df_stress[\"word\"].str.strip()\n",
    "df_stress[\"stress\"] = df_stress[\"stress\"].str.strip()"
   ]
  },
  {
   "cell_type": "code",
   "execution_count": 239,
   "metadata": {},
   "outputs": [],
   "source": [
    "df_stress.to_csv(\"../models/data/dictionaries/hagen-morph-stress.csv\", index=False)"
   ]
  },
  {
   "cell_type": "code",
   "execution_count": 240,
   "metadata": {},
   "outputs": [],
   "source": [
    "df_stress = pd.read_csv(\"../models/data/dictionaries/hagen-morph-stress.csv\")"
   ]
  },
  {
   "cell_type": "markdown",
   "metadata": {},
   "source": [
    "# Тихонов А. Н., Морфемно-орфографический словарь русского языка"
   ]
  },
  {
   "cell_type": "code",
   "execution_count": 266,
   "metadata": {},
   "outputs": [],
   "source": [
    "# !wget http://www.speakrus.ru/dict/tikhonov.zip -O ../models/data/dictionaries/tikhonov.zip\n",
    "# !unzip ../models/data/dictionaries/tikhonov.zip\n",
    "# wtf_name = '\\udcee\\udcab\\udcd3\\udcf5Ѽ\\udca1\\udcab-\\udcab\\udcd3\\udcf5\\udcab\\udcfa\\udcd3\\udce1\\udcf5\\udcbf\\udcfe\\udcd1߬\\udcbf\\udcae \\u07fd\\udcab\\udcf3\\udce1\\udcd3\\udcfd \\udcc7. \\udcec. ƿի\\udca1\\udcab\\udcf3\\udce1.txt'\n",
    "# os.rename(wtf_name, \"../models/data/dictionaries/tikhonov.txt\")"
   ]
  },
  {
   "cell_type": "code",
   "execution_count": 300,
   "metadata": {},
   "outputs": [],
   "source": [
    "df = pd.read_csv(\"../models/data/dictionaries/tikhonov.txt\", encoding=\"windows-1251\", header=None, sep=\"|\")"
   ]
  },
  {
   "cell_type": "code",
   "execution_count": 301,
   "metadata": {},
   "outputs": [],
   "source": [
    "df.columns = [\"word\", \"partition\"]\n",
    "df[\"word\"] = df[\"word\"].str.strip().copy()"
   ]
  },
  {
   "cell_type": "code",
   "execution_count": 303,
   "metadata": {},
   "outputs": [],
   "source": [
    "df.to_csv(\"../models/data/dictionaries/tikhonov_fixed.csv\", index=False)"
   ]
  },
  {
   "cell_type": "code",
   "execution_count": null,
   "metadata": {},
   "outputs": [],
   "source": []
  }
 ],
 "metadata": {
  "kernelspec": {
   "display_name": "Python 3",
   "language": "python",
   "name": "python3"
  },
  "language_info": {
   "codemirror_mode": {
    "name": "ipython",
    "version": 3
   },
   "file_extension": ".py",
   "mimetype": "text/x-python",
   "name": "python",
   "nbconvert_exporter": "python",
   "pygments_lexer": "ipython3",
   "version": "3.6.6"
  }
 },
 "nbformat": 4,
 "nbformat_minor": 2
}
